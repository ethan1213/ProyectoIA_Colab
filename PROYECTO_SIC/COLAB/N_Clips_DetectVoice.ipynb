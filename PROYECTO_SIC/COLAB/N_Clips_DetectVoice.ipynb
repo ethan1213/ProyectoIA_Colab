{
  "cells": [
    {
      "cell_type": "markdown",
      "source": [
        "Varios cambios en el momento flojo. ahora vamos a hacerlo mas random en los clips y en flac para que se guarde de mejor manera y no pierda calidad de audio."
      ],
      "metadata": {
        "id": "5Y2TEQHqGtLQ"
      }
    },
    {
      "cell_type": "code",
      "source": [
        "!apt-get install -y ffmpeg\n",
        "!pip install pydub"
      ],
      "metadata": {
        "id": "i22vtIrXAjMi",
        "outputId": "7ff1993e-969c-4804-cf15-800c4666916e",
        "colab": {
          "base_uri": "https://localhost:8080/"
        }
      },
      "execution_count": null,
      "outputs": [
        {
          "output_type": "stream",
          "name": "stdout",
          "text": [
            "Reading package lists... Done\n",
            "Building dependency tree... Done\n",
            "Reading state information... Done\n",
            "ffmpeg is already the newest version (7:4.4.2-0ubuntu0.22.04.1).\n",
            "0 upgraded, 0 newly installed, 0 to remove and 49 not upgraded.\n",
            "Collecting pydub\n",
            "  Downloading pydub-0.25.1-py2.py3-none-any.whl.metadata (1.4 kB)\n",
            "Downloading pydub-0.25.1-py2.py3-none-any.whl (32 kB)\n",
            "Installing collected packages: pydub\n",
            "Successfully installed pydub-0.25.1\n"
          ]
        }
      ]
    },
    {
      "cell_type": "code",
      "source": [
        "# Importamos las librerías necesarias\n",
        "from google.colab import drive\n",
        "from pydub import AudioSegment\n",
        "import os\n",
        "import random\n",
        "import uuid"
      ],
      "metadata": {
        "id": "BHGaFzDTG4zP"
      },
      "execution_count": null,
      "outputs": []
    },
    {
      "cell_type": "code",
      "source": [
        "# Función para montar Google Drive\n",
        "def montar_drive():\n",
        "    drive.mount('/content/drive')\n",
        "    print(\"Google Drive montado correctamente.\")"
      ],
      "metadata": {
        "id": "oBB5QrnvG9Yz"
      },
      "execution_count": null,
      "outputs": []
    },
    {
      "cell_type": "code",
      "source": [
        "# Función para descargar el video de YouTube como wav\n",
        "def descargar_audio_youtube(url, output_folder):\n",
        "    os.makedirs(output_folder, exist_ok=True)  # Crear carpeta si no existe\n",
        "    print(f\"Descargando audio desde {url}...\")\n",
        "    # Descarga el audio en formato wav en la carpeta especificada\n",
        "    !yt-dlp -x --audio-format wav -o \"{output_folder}/%(title)s.%(ext)s\" {url}\n",
        "    print(\"Descarga completa.\")"
      ],
      "metadata": {
        "id": "MrcFk_XcHI3C"
      },
      "execution_count": null,
      "outputs": []
    },
    {
      "cell_type": "code",
      "source": [
        "# Función para dividir el archivo de audio en clips con duración y nombre aleatorios\n",
        "def dividir_audio_en_clips(audio_file, min_duration_sec, max_duration_sec, output_folder_clips):\n",
        "    # Carga el archivo de audio en formato FLAC\n",
        "    audio = AudioSegment.from_file(audio_file, format=\"flac\")\n",
        "\n",
        "    # Crea la carpeta de clips si no existe\n",
        "    os.makedirs(output_folder_clips, exist_ok=True)\n",
        "\n",
        "    # Inicializamos la posición inicial\n",
        "    start_time = 0\n",
        "\n",
        "    # Divide el archivo en clips de duración aleatoria entre min_duration_sec y max_duration_sec\n",
        "    while start_time < len(audio):\n",
        "        # Genera una duración aleatoria para el clip dentro del rango especificado\n",
        "        clip_duration_ms = random.randint(min_duration_sec * 1000, max_duration_sec * 1000)\n",
        "        end_time = min(start_time + clip_duration_ms, len(audio))  # Evita pasar la duración del audio\n",
        "\n",
        "        # Extrae el clip y le asigna un nombre único aleatorio\n",
        "        clip = audio[start_time:end_time]\n",
        "        clip_name = f\"clip_{uuid.uuid4()}.wav\"  # Nombre aleatorio único\n",
        "        clip.export(os.path.join(output_folder_clips, clip_name), format=\"wav\")\n",
        "        print(f\"Guardado: {clip_name} (Duración: {clip_duration_ms / 1000} segundos)\")\n",
        "\n",
        "        # Avanzamos al siguiente segmento\n",
        "        start_time = end_time\n",
        "\n",
        "    print(f\"Proceso completo. Los clips se guardaron en {output_folder_clips}\")\n"
      ],
      "metadata": {
        "id": "JdI6SQzTHLb7"
      },
      "execution_count": null,
      "outputs": []
    },
    {
      "cell_type": "code",
      "source": [
        "# Función principal que combina todos los pasos\n",
        "def procesar_video_youtube(url, min_duration_sec, max_duration_sec, folder_descargas, folder_clips):\n",
        "    # Montamos Google Drive\n",
        "    montar_drive()\n",
        "\n",
        "    # Descargamos el video desde YouTube y lo convertimos a FLAC\n",
        "    descargar_audio_youtube(url, folder_descargas)\n",
        "\n",
        "    # Obtener el archivo de audio descargado (último archivo en la carpeta)\n",
        "    audio_files = [f for f in os.listdir(folder_descargas) if f.endswith('.wav')]\n",
        "\n",
        "    if not audio_files:\n",
        "        print(\"No se encontró ningún archivo de audio en la carpeta de descargas.\")\n",
        "        return\n",
        "\n",
        "    audio_file = max([os.path.join(folder_descargas, f) for f in audio_files], key=os.path.getctime)\n",
        "\n",
        "    # Dividimos el audio en clips con duración aleatoria y nombre único\n",
        "    dividir_audio_en_clips(audio_file, min_duration_sec, max_duration_sec, folder_clips)\n"
      ],
      "metadata": {
        "id": "4WKI_jQ1HMEJ"
      },
      "execution_count": null,
      "outputs": []
    },
    {
      "cell_type": "code",
      "source": [
        "# Configuración de los parámetros y ejecución del flujo completo\n",
        "url_video = \"https://youtu.be/QKsRaelojKE?si=9jEwV11eUP5fPXQi\"  # URL del video de YouTube\n",
        "\n",
        "# Rutas en Google Drive\n",
        "carpeta_descargas = \"/content/drive/MyDrive/Proyecto SIC/videos_Audio_Pruebas\"\n",
        "carpeta_clips_IA = \"/content/drive/MyDrive/Proyecto SIC/Voces IA\"\n",
        "carpeta_clips_Real = \"/content/drive/MyDrive/Proyecto SIC/Voces reales\"\n",
        "\n",
        "# Definimos el rango de duración aleatoria para los clips\n",
        "duracion_clip_min = 10  # Duración mínima en segundos\n",
        "duracion_clip_max = 50  # Duración máxima en segundos"
      ],
      "metadata": {
        "id": "MIhGvzuvHQ1J"
      },
      "execution_count": null,
      "outputs": []
    },
    {
      "cell_type": "code",
      "source": [
        "# Ejecutamos el flujo completo en las carpetas de voces IA\n",
        "procesar_video_youtube(url_video, duracion_clip_min, duracion_clip_max, carpeta_descargas, carpeta_clips_IA)"
      ],
      "metadata": {
        "colab": {
          "base_uri": "https://localhost:8080/"
        },
        "id": "eC6-Hg9aHUWk",
        "outputId": "449e0fe6-cf76-46ec-cc3a-6e2017f5d42b"
      },
      "execution_count": null,
      "outputs": [
        {
          "output_type": "stream",
          "name": "stdout",
          "text": [
            "Drive already mounted at /content/drive; to attempt to forcibly remount, call drive.mount(\"/content/drive\", force_remount=True).\n",
            "Google Drive montado correctamente.\n",
            "Descargando audio desde https://youtu.be/QKsRaelojKE?si=9jEwV11eUP5fPXQi...\n",
            "/bin/bash: line 1: yt-dlp: command not found\n",
            "Descarga completa.\n",
            "No se encontró ningún archivo de audio en la carpeta de descargas.\n"
          ]
        }
      ]
    },
    {
      "cell_type": "code",
      "source": [
        "# Ejecutamos el flujo completo en las carpetas de voces reales\n",
        "procesar_video_youtube(url_video, duracion_clip_min, duracion_clip_max, carpeta_descargas, carpeta_clips_Real)"
      ],
      "metadata": {
        "colab": {
          "base_uri": "https://localhost:8080/"
        },
        "id": "T_w82XtCHYCo",
        "outputId": "e57b5440-be7d-4763-bec5-475e4a584753"
      },
      "execution_count": null,
      "outputs": [
        {
          "output_type": "stream",
          "name": "stdout",
          "text": [
            "Drive already mounted at /content/drive; to attempt to forcibly remount, call drive.mount(\"/content/drive\", force_remount=True).\n",
            "Google Drive montado correctamente.\n",
            "Descargando audio desde https://youtu.be/gr2YhEbzWmc?si=VmDS44V9tO8hxBi1...\n",
            "[youtube] Extracting URL: https://youtu.be/gr2YhEbzWmc?si=VmDS44V9tO8hxBi1\n",
            "[youtube] gr2YhEbzWmc: Downloading webpage\n",
            "[youtube] gr2YhEbzWmc: Downloading ios player API JSON\n",
            "[youtube] gr2YhEbzWmc: Downloading mweb player API JSON\n",
            "[youtube] gr2YhEbzWmc: Downloading m3u8 information\n",
            "[info] gr2YhEbzWmc: Downloading 1 format(s): 251\n",
            "[download] Destination: /content/drive/MyDrive/Proyecto SIC/videos_Audio_Pruebas/Modulo 6 ELIMINADO EMOCIONES NEGATIVAS.webm\n",
            "\u001b[K[download] 100% of   22.87MiB in \u001b[1;37m00:00:00\u001b[0m at \u001b[0;32m38.68MiB/s\u001b[0m\n",
            "[ExtractAudio] Destination: /content/drive/MyDrive/Proyecto SIC/videos_Audio_Pruebas/Modulo 6 ELIMINADO EMOCIONES NEGATIVAS.flac\n",
            "Deleting original file /content/drive/MyDrive/Proyecto SIC/videos_Audio_Pruebas/Modulo 6 ELIMINADO EMOCIONES NEGATIVAS.webm (pass -k to keep)\n",
            "Descarga completa.\n",
            "Guardado: clip_194e8db9-d228-4e6f-9799-96d6f33419af.flac (Duración: 20.978 segundos)\n",
            "Guardado: clip_1922a5e3-9232-4bf9-ac10-4b66b66bb41d.flac (Duración: 15.228 segundos)\n",
            "Guardado: clip_cffb6e95-fc6d-47ef-9e51-4e2d15397274.flac (Duración: 34.616 segundos)\n",
            "Guardado: clip_58a0ce6e-9fd3-436b-9138-0c6d37f7cfb4.flac (Duración: 29.603 segundos)\n",
            "Guardado: clip_163f80dd-894c-4acd-b1b9-bdf7abd65dc4.flac (Duración: 49.606 segundos)\n",
            "Guardado: clip_998b12fc-7da0-4536-9f0a-bb5382109e1f.flac (Duración: 44.293 segundos)\n",
            "Guardado: clip_9217071c-5115-4c45-9918-1eebbb578274.flac (Duración: 28.654 segundos)\n",
            "Guardado: clip_a27f2f1c-6660-4ce1-8630-f36671a5ea46.flac (Duración: 40.29 segundos)\n",
            "Guardado: clip_00d8889c-0089-4178-88de-e5d635354555.flac (Duración: 32.432 segundos)\n",
            "Guardado: clip_acd0bb41-b312-4336-a6fe-d909c3e3d288.flac (Duración: 26.688 segundos)\n",
            "Guardado: clip_9bf4d095-df41-440d-81d4-75433f4386d8.flac (Duración: 44.157 segundos)\n",
            "Guardado: clip_f01cf034-6810-48c1-b845-92fa79028eec.flac (Duración: 19.717 segundos)\n",
            "Guardado: clip_a06807ed-ad98-4b09-966a-207218df73fe.flac (Duración: 40.105 segundos)\n",
            "Guardado: clip_99d80056-5792-416f-b272-be597770f2e5.flac (Duración: 32.65 segundos)\n",
            "Guardado: clip_83865fa7-6ace-4387-99c7-99a11e24f3cf.flac (Duración: 18.988 segundos)\n",
            "Guardado: clip_3fda069f-0375-4c1c-b57c-3dd250c6e51b.flac (Duración: 42.247 segundos)\n",
            "Guardado: clip_601259b4-b0b3-4fe5-a513-ec6ae77c7c7b.flac (Duración: 17.479 segundos)\n",
            "Guardado: clip_cb914558-5b23-4444-beef-7b547a8e3409.flac (Duración: 49.196 segundos)\n",
            "Guardado: clip_6177d1e0-6caa-4bab-84c0-cff276abd5f9.flac (Duración: 31.555 segundos)\n",
            "Guardado: clip_00cf4473-d373-422f-8ee8-3f1557d0097d.flac (Duración: 43.304 segundos)\n",
            "Guardado: clip_79285334-2969-4bd7-a8b7-a9f348f1cc13.flac (Duración: 33.017 segundos)\n",
            "Guardado: clip_f7bfcd19-a689-48fd-a4ff-793b2dde5b1c.flac (Duración: 25.599 segundos)\n",
            "Guardado: clip_82875e27-a42b-4272-a2e0-859dc6dc541e.flac (Duración: 33.608 segundos)\n",
            "Guardado: clip_1ea0437b-0a8c-49a2-a529-1a912899e15e.flac (Duración: 19.974 segundos)\n",
            "Guardado: clip_8b90a1af-1643-45fb-9825-7d6db7f27f0a.flac (Duración: 34.661 segundos)\n",
            "Guardado: clip_08c18e0c-2058-4d0d-9904-3f0f1dfb11c0.flac (Duración: 36.45 segundos)\n",
            "Guardado: clip_f22153fc-139c-4ff5-960e-2ea59c65e25f.flac (Duración: 41.781 segundos)\n",
            "Guardado: clip_c03ed780-5f6c-4636-af65-e30dbd823796.flac (Duración: 14.99 segundos)\n",
            "Guardado: clip_72103017-4b1b-4c87-937e-b046d92b090d.flac (Duración: 48.251 segundos)\n",
            "Guardado: clip_de1e5246-13e3-48bb-bfd9-9745ba61dbfc.flac (Duración: 46.077 segundos)\n",
            "Guardado: clip_e80b6d62-eccf-4280-92a7-b0537f1db6e5.flac (Duración: 13.908 segundos)\n",
            "Guardado: clip_37ef7a10-c660-4890-9369-2c6dc12e0e41.flac (Duración: 35.144 segundos)\n",
            "Guardado: clip_bfe6bde0-276b-40e0-8ab7-5e42654647f8.flac (Duración: 25.35 segundos)\n",
            "Guardado: clip_5720bea6-0f38-4f4a-93f7-9b9357d1fef0.flac (Duración: 28.937 segundos)\n",
            "Guardado: clip_5d0d3bb7-eb3a-4268-a77b-8499376e6f8d.flac (Duración: 21.207 segundos)\n",
            "Guardado: clip_5d750c0f-07f4-4f96-9064-2d3f552a8923.flac (Duración: 14.781 segundos)\n",
            "Guardado: clip_320e40ee-bb36-4b18-9ca7-e108fa68ed12.flac (Duración: 27.318 segundos)\n",
            "Guardado: clip_b9cbf3d4-aed9-4245-bc0e-1cee669f266a.flac (Duración: 36.085 segundos)\n",
            "Guardado: clip_8e62e353-8afd-47e9-8141-f6d6e215103a.flac (Duración: 31.632 segundos)\n",
            "Guardado: clip_6aaf7b87-8e22-4b33-bddf-c05a5572ad94.flac (Duración: 14.198 segundos)\n",
            "Guardado: clip_83ff3525-bfc3-4081-9cb9-d3a6861992c4.flac (Duración: 37.967 segundos)\n",
            "Guardado: clip_0c0e1ebc-ef5f-4084-bc0b-1fdeabecd338.flac (Duración: 45.42 segundos)\n",
            "Guardado: clip_3461f5a4-4105-4d8f-ae78-580dd4ef738f.flac (Duración: 39.173 segundos)\n",
            "Guardado: clip_9aac9cd9-aab7-4fe2-9186-68e0250a03f4.flac (Duración: 41.443 segundos)\n",
            "Guardado: clip_9ef95612-e05d-41d3-b06a-7dda9e33d32e.flac (Duración: 48.604 segundos)\n",
            "Guardado: clip_0a6658a7-c4c2-4c59-b0f8-a7a6f7a34b90.flac (Duración: 49.795 segundos)\n",
            "Guardado: clip_e30f948b-8c4a-40e3-959e-893d2a90546d.flac (Duración: 14.891 segundos)\n",
            "Guardado: clip_cb1bc5bb-6f4d-415a-8716-6cea9b0a4067.flac (Duración: 18.348 segundos)\n",
            "Guardado: clip_ec3b3ac5-ea75-4b3c-9499-17fd7a65aa81.flac (Duración: 23.174 segundos)\n",
            "Guardado: clip_8f3610d7-559b-4295-ae15-a9b065894f44.flac (Duración: 19.964 segundos)\n",
            "Guardado: clip_a4ca0cba-9aec-405b-bf94-bd8e5fd13d15.flac (Duración: 37.312 segundos)\n",
            "Guardado: clip_a352acb9-64a1-4de6-9c02-512f2a357901.flac (Duración: 13.942 segundos)\n",
            "Guardado: clip_7dcbd0d2-70a0-45c7-93eb-900d2fd595bf.flac (Duración: 17.212 segundos)\n",
            "Guardado: clip_11922994-2533-4afa-806f-f9160af9290d.flac (Duración: 21.527 segundos)\n",
            "Guardado: clip_3fe17a24-4a9a-4b86-8075-aa9063216f17.flac (Duración: 40.306 segundos)\n",
            "Guardado: clip_f9dc58da-ef39-403b-81ab-17fa02f81a3a.flac (Duración: 49.306 segundos)\n",
            "Guardado: clip_a12e04f5-3890-4d6a-8480-02400f9b1b29.flac (Duración: 17.238 segundos)\n",
            "Guardado: clip_debc3b0c-a37d-4d7d-a09d-5639d2b41a79.flac (Duración: 47.699 segundos)\n",
            "Proceso completo. Los clips se guardaron en /content/drive/MyDrive/Proyecto SIC/Voces reales\n"
          ]
        }
      ]
    },
    {
      "cell_type": "code",
      "source": [
        "#funcion que cambie todos los archivos a .wav de las carpetas de drive\n",
        "def convertir_a_wav(carpeta_drive):\n",
        "    montar_drive()\n",
        "    # Itera sobre todos los archivos en la carpeta especificada\n",
        "    for archivo in os.listdir(carpeta_drive):\n",
        "        # Obtiene la ruta completa del archivo\n",
        "        ruta_archivo = os.path.join(carpeta_drive, archivo)\n",
        "\n",
        "        # Verifica si el archivo es .mp3 o .flac\n",
        "        if archivo.endswith('.mp3') or archivo.endswith('.flac'):\n",
        "            try:\n",
        "                # Carga el archivo de audio según su formato, aumentando probesize y analyzeduration\n",
        "                if archivo.endswith('.mp3'):\n",
        "                    audio = AudioSegment.from_mp3(ruta_archivo)\n",
        "                elif archivo.endswith('.flac'):\n",
        "                    audio = AudioSegment.from_file(ruta_archivo, 'flac', parameters=[\"-probesize\", \"5000000\", \"-analyzeduration\", \"5000000\"])\n",
        "\n",
        "                # Define la nueva ruta para el archivo convertido a .wav\n",
        "                nueva_ruta = os.path.join(carpeta_drive, os.path.splitext(archivo)[0] + '.wav')\n",
        "\n",
        "                # Exporta el archivo a formato WAV\n",
        "                audio.export(nueva_ruta, format='wav')\n",
        "                print(f\"Archivo convertido: {archivo} -> {os.path.basename(nueva_ruta)}\")\n",
        "\n",
        "                # Elimina el archivo original si es necesario\n",
        "                os.remove(ruta_archivo)\n",
        "                print(f\"Archivo original eliminado: {archivo}\")\n",
        "\n",
        "            except Exception as e:\n",
        "                print(f\"Error al convertir {archivo}: {e}\")"
      ],
      "metadata": {
        "id": "SklZ7q28DUpR"
      },
      "execution_count": null,
      "outputs": []
    },
    {
      "cell_type": "code",
      "source": [
        "#vamos a cambiar todos archivos de la carpeta carpeta_clips_IA\n",
        "convertir_a_wav(carpeta_clips_IA)"
      ],
      "metadata": {
        "colab": {
          "base_uri": "https://localhost:8080/"
        },
        "id": "i2GM0wqREVWn",
        "outputId": "4e54fbaf-b8bd-43de-d515-82efdfa2dcbb"
      },
      "execution_count": null,
      "outputs": [
        {
          "output_type": "stream",
          "name": "stdout",
          "text": [
            "Drive already mounted at /content/drive; to attempt to forcibly remount, call drive.mount(\"/content/drive\", force_remount=True).\n",
            "Google Drive montado correctamente.\n",
            "Archivo convertido: Ibai's Voice (7).mp3 -> Ibai's Voice (7).wav\n",
            "Archivo original eliminado: Ibai's Voice (7).mp3\n",
            "Archivo convertido: Ibai's Voice (8).mp3 -> Ibai's Voice (8).wav\n",
            "Archivo original eliminado: Ibai's Voice (8).mp3\n",
            "Archivo convertido: Ibai's Voice (2).mp3 -> Ibai's Voice (2).wav\n",
            "Archivo original eliminado: Ibai's Voice (2).mp3\n",
            "Archivo convertido: Ibai's Voice (3).mp3 -> Ibai's Voice (3).wav\n",
            "Archivo original eliminado: Ibai's Voice (3).mp3\n",
            "Archivo convertido: Felipe VI's Voice.mp3 -> Felipe VI's Voice.wav\n",
            "Archivo original eliminado: Felipe VI's Voice.mp3\n",
            "Archivo convertido: Felipe VI's Voice (3).mp3 -> Felipe VI's Voice (3).wav\n",
            "Archivo original eliminado: Felipe VI's Voice (3).mp3\n",
            "Archivo convertido: Felipe VI's Voice (2).mp3 -> Felipe VI's Voice (2).wav\n",
            "Archivo original eliminado: Felipe VI's Voice (2).mp3\n",
            "Archivo convertido: Felipe VI's Voice (4).mp3 -> Felipe VI's Voice (4).wav\n",
            "Archivo original eliminado: Felipe VI's Voice (4).mp3\n",
            "Archivo convertido: Felipe VI's Voice (1).mp3 -> Felipe VI's Voice (1).wav\n",
            "Archivo original eliminado: Felipe VI's Voice (1).mp3\n",
            "Archivo convertido: Felipe VI's Voice (5).mp3 -> Felipe VI's Voice (5).wav\n",
            "Archivo original eliminado: Felipe VI's Voice (5).mp3\n",
            "Archivo convertido: Ibai's Voice (5).mp3 -> Ibai's Voice (5).wav\n",
            "Archivo original eliminado: Ibai's Voice (5).mp3\n",
            "Archivo convertido: Ibai's Voice (4).mp3 -> Ibai's Voice (4).wav\n",
            "Archivo original eliminado: Ibai's Voice (4).mp3\n"
          ]
        }
      ]
    },
    {
      "cell_type": "code",
      "source": [
        "#vamos a cambiar todos los archivos de la carpeta carpeta_clips_reales\n",
        "convertir_a_wav(carpeta_clips_Real)"
      ],
      "metadata": {
        "colab": {
          "base_uri": "https://localhost:8080/"
        },
        "id": "GCSNUVWrEhOv",
        "outputId": "9cb2a0ef-5b7d-42a7-8b7e-de0ad7ca3271"
      },
      "execution_count": null,
      "outputs": [
        {
          "output_type": "stream",
          "name": "stdout",
          "text": [
            "Drive already mounted at /content/drive; to attempt to forcibly remount, call drive.mount(\"/content/drive\", force_remount=True).\n",
            "Google Drive montado correctamente.\n"
          ]
        }
      ]
    },
    {
      "cell_type": "code",
      "source": [
        "def eliminar_mp3_y_flac(carpeta_drive):\n",
        "    # Itera sobre todos los archivos en la carpeta especificada\n",
        "    for archivo in os.listdir(carpeta_drive):\n",
        "        # Obtiene la ruta completa del archivo\n",
        "        ruta_archivo = os.path.join(carpeta_drive, archivo)\n",
        "\n",
        "        # Verifica si el archivo es .mp3 o .flac\n",
        "        if archivo.endswith('.mp3') or archivo.endswith('.flac'):\n",
        "            try:\n",
        "                # Elimina el archivo\n",
        "                os.remove(ruta_archivo)\n",
        "                print(f\"Archivo eliminado: {archivo}\")\n",
        "            except Exception as e:\n",
        "                print(f\"No se pudo eliminar {archivo}: {e}\")"
      ],
      "metadata": {
        "id": "EhhyOW6qIARN"
      },
      "execution_count": null,
      "outputs": []
    },
    {
      "cell_type": "code",
      "source": [
        "eliminar_mp3_y_flac(carpeta_clips_IA)\n",
        "eliminar_mp3_y_flac(carpeta_clips_Real)"
      ],
      "metadata": {
        "id": "Ld8bGRL5IoFv"
      },
      "execution_count": null,
      "outputs": []
    }
  ],
  "metadata": {
    "colab": {
      "provenance": []
    },
    "kernelspec": {
      "display_name": "Python 3",
      "name": "python3"
    },
    "language_info": {
      "name": "python"
    }
  },
  "nbformat": 4,
  "nbformat_minor": 0
}